{
 "cells": [
  {
   "cell_type": "markdown",
   "metadata": {},
   "source": [
    "### EDA on Evidence Objects (from ES)"
   ]
  },
  {
   "cell_type": "code",
   "execution_count": 1,
   "metadata": {},
   "outputs": [],
   "source": [
    "import glob\n",
    "import os.path as osp\n",
    "import tqdm\n",
    "import json\n",
    "import pandas as pd\n",
    "import numpy as np\n",
    "import dask\n",
    "import dask.dataframe as dd\n",
    "import matplotlib.pyplot as plt\n",
    "import plotnine as pn\n",
    "data_file = '/lab/data/raw/evidence-data-stage-2.parquet'\n",
    "sample_file = '/lab/data/raw/evidence-data-stage-2.sample.csv'"
   ]
  },
  {
   "cell_type": "code",
   "execution_count": 2,
   "metadata": {},
   "outputs": [
    {
     "data": {
      "text/plain": [
       "<dask.config.set at 0x7fdce0c068d0>"
      ]
     },
     "execution_count": 2,
     "metadata": {},
     "output_type": "execute_result"
    }
   ],
   "source": [
    "# dask.config.set(scheduler='synchronous') # debugging\n",
    "dask.config.set(scheduler='processes', num_workers=3) # conservative settings (minimal interruption)\n",
    "# dask.config.set(scheduler='processes') # activate when ready (i.e. more RAM, more cores)"
   ]
  },
  {
   "cell_type": "markdown",
   "metadata": {},
   "source": [
    "## Export Sample "
   ]
  },
  {
   "cell_type": "code",
   "execution_count": 4,
   "metadata": {},
   "outputs": [],
   "source": [
    "# Load individual records from ES export\n",
    "df = dd.read_parquet(data_file)"
   ]
  },
  {
   "cell_type": "code",
   "execution_count": 5,
   "metadata": {},
   "outputs": [
    {
     "data": {
      "text/html": [
       "<div><strong>Dask DataFrame Structure:</strong></div>\n",
       "<div>\n",
       "<style scoped>\n",
       "    .dataframe tbody tr th:only-of-type {\n",
       "        vertical-align: middle;\n",
       "    }\n",
       "\n",
       "    .dataframe tbody tr th {\n",
       "        vertical-align: top;\n",
       "    }\n",
       "\n",
       "    .dataframe thead th {\n",
       "        text-align: right;\n",
       "    }\n",
       "</style>\n",
       "<table border=\"1\" class=\"dataframe\">\n",
       "  <thead>\n",
       "    <tr style=\"text-align: right;\">\n",
       "      <th></th>\n",
       "      <th>access_level</th>\n",
       "      <th>disease</th>\n",
       "      <th>drug</th>\n",
       "      <th>evidence</th>\n",
       "      <th>id</th>\n",
       "      <th>literature</th>\n",
       "      <th>private</th>\n",
       "      <th>scores</th>\n",
       "      <th>sourceID</th>\n",
       "      <th>target</th>\n",
       "      <th>type</th>\n",
       "      <th>unique_association_fields</th>\n",
       "      <th>validated_against_schema_version</th>\n",
       "      <th>batch</th>\n",
       "    </tr>\n",
       "    <tr>\n",
       "      <th>npartitions=163</th>\n",
       "      <th></th>\n",
       "      <th></th>\n",
       "      <th></th>\n",
       "      <th></th>\n",
       "      <th></th>\n",
       "      <th></th>\n",
       "      <th></th>\n",
       "      <th></th>\n",
       "      <th></th>\n",
       "      <th></th>\n",
       "      <th></th>\n",
       "      <th></th>\n",
       "      <th></th>\n",
       "      <th></th>\n",
       "    </tr>\n",
       "  </thead>\n",
       "  <tbody>\n",
       "    <tr>\n",
       "      <th></th>\n",
       "      <td>object</td>\n",
       "      <td>object</td>\n",
       "      <td>object</td>\n",
       "      <td>object</td>\n",
       "      <td>object</td>\n",
       "      <td>object</td>\n",
       "      <td>object</td>\n",
       "      <td>object</td>\n",
       "      <td>object</td>\n",
       "      <td>object</td>\n",
       "      <td>object</td>\n",
       "      <td>object</td>\n",
       "      <td>object</td>\n",
       "      <td>category[known]</td>\n",
       "    </tr>\n",
       "    <tr>\n",
       "      <th></th>\n",
       "      <td>...</td>\n",
       "      <td>...</td>\n",
       "      <td>...</td>\n",
       "      <td>...</td>\n",
       "      <td>...</td>\n",
       "      <td>...</td>\n",
       "      <td>...</td>\n",
       "      <td>...</td>\n",
       "      <td>...</td>\n",
       "      <td>...</td>\n",
       "      <td>...</td>\n",
       "      <td>...</td>\n",
       "      <td>...</td>\n",
       "      <td>...</td>\n",
       "    </tr>\n",
       "    <tr>\n",
       "      <th>...</th>\n",
       "      <td>...</td>\n",
       "      <td>...</td>\n",
       "      <td>...</td>\n",
       "      <td>...</td>\n",
       "      <td>...</td>\n",
       "      <td>...</td>\n",
       "      <td>...</td>\n",
       "      <td>...</td>\n",
       "      <td>...</td>\n",
       "      <td>...</td>\n",
       "      <td>...</td>\n",
       "      <td>...</td>\n",
       "      <td>...</td>\n",
       "      <td>...</td>\n",
       "    </tr>\n",
       "    <tr>\n",
       "      <th></th>\n",
       "      <td>...</td>\n",
       "      <td>...</td>\n",
       "      <td>...</td>\n",
       "      <td>...</td>\n",
       "      <td>...</td>\n",
       "      <td>...</td>\n",
       "      <td>...</td>\n",
       "      <td>...</td>\n",
       "      <td>...</td>\n",
       "      <td>...</td>\n",
       "      <td>...</td>\n",
       "      <td>...</td>\n",
       "      <td>...</td>\n",
       "      <td>...</td>\n",
       "    </tr>\n",
       "    <tr>\n",
       "      <th></th>\n",
       "      <td>...</td>\n",
       "      <td>...</td>\n",
       "      <td>...</td>\n",
       "      <td>...</td>\n",
       "      <td>...</td>\n",
       "      <td>...</td>\n",
       "      <td>...</td>\n",
       "      <td>...</td>\n",
       "      <td>...</td>\n",
       "      <td>...</td>\n",
       "      <td>...</td>\n",
       "      <td>...</td>\n",
       "      <td>...</td>\n",
       "      <td>...</td>\n",
       "    </tr>\n",
       "  </tbody>\n",
       "</table>\n",
       "</div>\n",
       "<div>Dask Name: read-parquet, 163 tasks</div>"
      ],
      "text/plain": [
       "Dask DataFrame Structure:\n",
       "                access_level disease    drug evidence      id literature private  scores sourceID  target    type unique_association_fields validated_against_schema_version            batch\n",
       "npartitions=163                                                                                                                                                                              \n",
       "                      object  object  object   object  object     object  object  object   object  object  object                    object                           object  category[known]\n",
       "                         ...     ...     ...      ...     ...        ...     ...     ...      ...     ...     ...                       ...                              ...              ...\n",
       "...                      ...     ...     ...      ...     ...        ...     ...     ...      ...     ...     ...                       ...                              ...              ...\n",
       "                         ...     ...     ...      ...     ...        ...     ...     ...      ...     ...     ...                       ...                              ...              ...\n",
       "                         ...     ...     ...      ...     ...        ...     ...     ...      ...     ...     ...                       ...                              ...              ...\n",
       "Dask Name: read-parquet, 163 tasks"
      ]
     },
     "execution_count": 5,
     "metadata": {},
     "output_type": "execute_result"
    }
   ],
   "source": [
    "df"
   ]
  },
  {
   "cell_type": "code",
   "execution_count": 6,
   "metadata": {},
   "outputs": [
    {
     "name": "stdout",
     "output_type": "stream",
     "text": [
      "<class 'pandas.core.frame.DataFrame'>\n",
      "Int64Index: 325309 entries, 8450 to 3856\n",
      "Data columns (total 14 columns):\n",
      "access_level                        325309 non-null object\n",
      "disease                             325309 non-null object\n",
      "drug                                325309 non-null object\n",
      "evidence                            325309 non-null object\n",
      "id                                  325309 non-null object\n",
      "literature                          325309 non-null object\n",
      "private                             325309 non-null object\n",
      "scores                              325309 non-null object\n",
      "sourceID                            325309 non-null object\n",
      "target                              325309 non-null object\n",
      "type                                325309 non-null object\n",
      "unique_association_fields           325309 non-null object\n",
      "validated_against_schema_version    325309 non-null object\n",
      "batch                               325309 non-null category\n",
      "dtypes: category(1), object(13)\n",
      "memory usage: 35.4+ MB\n"
     ]
    }
   ],
   "source": [
    "# Downsample to size large enough for laptop but\n",
    "# continue analysis with out-of-core assumption\n",
    "#df = df.sample(frac=.05, random_state=1).compute()\n",
    "df = df.sample(frac=.2, random_state=1).compute()\n",
    "df.info()"
   ]
  },
  {
   "cell_type": "code",
   "execution_count": 7,
   "metadata": {},
   "outputs": [
    {
     "data": {
      "text/plain": [
       "'/lab/data/raw/evidence-data-stage-2.sample.csv'"
      ]
     },
     "execution_count": 7,
     "metadata": {},
     "output_type": "execute_result"
    }
   ],
   "source": [
    "# Drop even this tiny sample into some file to be loaded without\n",
    "# using the same kernel as pyarrow as it has ridiculous memory leaks\n",
    "df.to_csv(sample_file, index=False)\n",
    "sample_file"
   ]
  },
  {
   "cell_type": "markdown",
   "metadata": {},
   "source": [
    "## Initialize Data Source"
   ]
  },
  {
   "cell_type": "code",
   "execution_count": 3,
   "metadata": {},
   "outputs": [
    {
     "name": "stderr",
     "output_type": "stream",
     "text": [
      "/usr/local/lib/python3.7/site-packages/IPython/core/interactiveshell.py:3058: DtypeWarning: Columns (2,5) have mixed types. Specify dtype option on import or set low_memory=False.\n",
      "  interactivity=interactivity, compiler=compiler, result=result)\n"
     ]
    },
    {
     "name": "stdout",
     "output_type": "stream",
     "text": [
      "<class 'pandas.core.frame.DataFrame'>\n",
      "RangeIndex: 325309 entries, 0 to 325308\n",
      "Data columns (total 14 columns):\n",
      "access_level                        325309 non-null object\n",
      "disease                             325309 non-null object\n",
      "drug                                76646 non-null object\n",
      "evidence                            325309 non-null object\n",
      "id                                  325309 non-null object\n",
      "literature                          88608 non-null object\n",
      "private                             325309 non-null object\n",
      "scores                              325309 non-null object\n",
      "sourceID                            325309 non-null object\n",
      "target                              325309 non-null object\n",
      "type                                325309 non-null object\n",
      "unique_association_fields           325309 non-null object\n",
      "validated_against_schema_version    284464 non-null object\n",
      "batch                               325309 non-null int64\n",
      "dtypes: int64(1), object(13)\n",
      "memory usage: 2.4 GB\n"
     ]
    }
   ],
   "source": [
    "# df = dd.read_parquet('/lab/data/raw/evidence-data-stage-2.parquet')\n",
    "df = pd.read_csv(sample_file)\n",
    "df.info(memory_usage='deep')"
   ]
  },
  {
   "cell_type": "code",
   "execution_count": 4,
   "metadata": {},
   "outputs": [],
   "source": [
    "df = dd.from_pandas(df, npartitions=15) "
   ]
  },
  {
   "cell_type": "code",
   "execution_count": 5,
   "metadata": {},
   "outputs": [
    {
     "data": {
      "text/html": [
       "<div><strong>Dask DataFrame Structure:</strong></div>\n",
       "<div>\n",
       "<style scoped>\n",
       "    .dataframe tbody tr th:only-of-type {\n",
       "        vertical-align: middle;\n",
       "    }\n",
       "\n",
       "    .dataframe tbody tr th {\n",
       "        vertical-align: top;\n",
       "    }\n",
       "\n",
       "    .dataframe thead th {\n",
       "        text-align: right;\n",
       "    }\n",
       "</style>\n",
       "<table border=\"1\" class=\"dataframe\">\n",
       "  <thead>\n",
       "    <tr style=\"text-align: right;\">\n",
       "      <th></th>\n",
       "      <th>access_level</th>\n",
       "      <th>disease</th>\n",
       "      <th>drug</th>\n",
       "      <th>evidence</th>\n",
       "      <th>id</th>\n",
       "      <th>literature</th>\n",
       "      <th>private</th>\n",
       "      <th>scores</th>\n",
       "      <th>sourceID</th>\n",
       "      <th>target</th>\n",
       "      <th>type</th>\n",
       "      <th>unique_association_fields</th>\n",
       "      <th>validated_against_schema_version</th>\n",
       "      <th>batch</th>\n",
       "    </tr>\n",
       "    <tr>\n",
       "      <th>npartitions=15</th>\n",
       "      <th></th>\n",
       "      <th></th>\n",
       "      <th></th>\n",
       "      <th></th>\n",
       "      <th></th>\n",
       "      <th></th>\n",
       "      <th></th>\n",
       "      <th></th>\n",
       "      <th></th>\n",
       "      <th></th>\n",
       "      <th></th>\n",
       "      <th></th>\n",
       "      <th></th>\n",
       "      <th></th>\n",
       "    </tr>\n",
       "  </thead>\n",
       "  <tbody>\n",
       "    <tr>\n",
       "      <th>0</th>\n",
       "      <td>object</td>\n",
       "      <td>object</td>\n",
       "      <td>object</td>\n",
       "      <td>object</td>\n",
       "      <td>object</td>\n",
       "      <td>object</td>\n",
       "      <td>object</td>\n",
       "      <td>object</td>\n",
       "      <td>object</td>\n",
       "      <td>object</td>\n",
       "      <td>object</td>\n",
       "      <td>object</td>\n",
       "      <td>object</td>\n",
       "      <td>int64</td>\n",
       "    </tr>\n",
       "    <tr>\n",
       "      <th>21688</th>\n",
       "      <td>...</td>\n",
       "      <td>...</td>\n",
       "      <td>...</td>\n",
       "      <td>...</td>\n",
       "      <td>...</td>\n",
       "      <td>...</td>\n",
       "      <td>...</td>\n",
       "      <td>...</td>\n",
       "      <td>...</td>\n",
       "      <td>...</td>\n",
       "      <td>...</td>\n",
       "      <td>...</td>\n",
       "      <td>...</td>\n",
       "      <td>...</td>\n",
       "    </tr>\n",
       "    <tr>\n",
       "      <th>...</th>\n",
       "      <td>...</td>\n",
       "      <td>...</td>\n",
       "      <td>...</td>\n",
       "      <td>...</td>\n",
       "      <td>...</td>\n",
       "      <td>...</td>\n",
       "      <td>...</td>\n",
       "      <td>...</td>\n",
       "      <td>...</td>\n",
       "      <td>...</td>\n",
       "      <td>...</td>\n",
       "      <td>...</td>\n",
       "      <td>...</td>\n",
       "      <td>...</td>\n",
       "    </tr>\n",
       "    <tr>\n",
       "      <th>303632</th>\n",
       "      <td>...</td>\n",
       "      <td>...</td>\n",
       "      <td>...</td>\n",
       "      <td>...</td>\n",
       "      <td>...</td>\n",
       "      <td>...</td>\n",
       "      <td>...</td>\n",
       "      <td>...</td>\n",
       "      <td>...</td>\n",
       "      <td>...</td>\n",
       "      <td>...</td>\n",
       "      <td>...</td>\n",
       "      <td>...</td>\n",
       "      <td>...</td>\n",
       "    </tr>\n",
       "    <tr>\n",
       "      <th>325308</th>\n",
       "      <td>...</td>\n",
       "      <td>...</td>\n",
       "      <td>...</td>\n",
       "      <td>...</td>\n",
       "      <td>...</td>\n",
       "      <td>...</td>\n",
       "      <td>...</td>\n",
       "      <td>...</td>\n",
       "      <td>...</td>\n",
       "      <td>...</td>\n",
       "      <td>...</td>\n",
       "      <td>...</td>\n",
       "      <td>...</td>\n",
       "      <td>...</td>\n",
       "    </tr>\n",
       "  </tbody>\n",
       "</table>\n",
       "</div>\n",
       "<div>Dask Name: from_pandas, 15 tasks</div>"
      ],
      "text/plain": [
       "Dask DataFrame Structure:\n",
       "               access_level disease    drug evidence      id literature private  scores sourceID  target    type unique_association_fields validated_against_schema_version  batch\n",
       "npartitions=15                                                                                                                                                                    \n",
       "0                    object  object  object   object  object     object  object  object   object  object  object                    object                           object  int64\n",
       "21688                   ...     ...     ...      ...     ...        ...     ...     ...      ...     ...     ...                       ...                              ...    ...\n",
       "...                     ...     ...     ...      ...     ...        ...     ...     ...      ...     ...     ...                       ...                              ...    ...\n",
       "303632                  ...     ...     ...      ...     ...        ...     ...     ...      ...     ...     ...                       ...                              ...    ...\n",
       "325308                  ...     ...     ...      ...     ...        ...     ...     ...      ...     ...     ...                       ...                              ...    ...\n",
       "Dask Name: from_pandas, 15 tasks"
      ]
     },
     "execution_count": 5,
     "metadata": {},
     "output_type": "execute_result"
    }
   ],
   "source": [
    "df"
   ]
  },
  {
   "cell_type": "markdown",
   "metadata": {},
   "source": [
    "## Stats"
   ]
  },
  {
   "cell_type": "code",
   "execution_count": 6,
   "metadata": {},
   "outputs": [
    {
     "data": {
      "text/plain": [
       "325309"
      ]
     },
     "execution_count": 6,
     "metadata": {},
     "output_type": "execute_result"
    }
   ],
   "source": [
    "len(df)"
   ]
  },
  {
   "cell_type": "code",
   "execution_count": 7,
   "metadata": {},
   "outputs": [
    {
     "data": {
      "text/plain": [
       "phenodigm             100202\n",
       "chembl                 76646\n",
       "expression_atlas       40845\n",
       "gwas_catalog           36180\n",
       "eva                    19352\n",
       "slapenrich             14935\n",
       "cancer_gene_census     12052\n",
       "phewas_catalog         11123\n",
       "uniprot                 6118\n",
       "genomics_england        2130\n",
       "reactome                2007\n",
       "eva_somatic             1502\n",
       "uniprot_literature       900\n",
       "intogen                  473\n",
       "crispr                   332\n",
       "gene2phenotype           310\n",
       "sysbio                    89\n",
       "uniprot_somatic           57\n",
       "progeny                   56\n",
       "Name: sourceID, dtype: int64"
      ]
     },
     "execution_count": 7,
     "metadata": {},
     "output_type": "execute_result"
    }
   ],
   "source": [
    "df['sourceID'].value_counts().compute()"
   ]
  },
  {
   "cell_type": "code",
   "execution_count": 8,
   "metadata": {},
   "outputs": [
    {
     "data": {
      "image/png": "[encoded data removed]",
      "text/plain": [
       "<Figure size 1152x216 with 3 Axes>"
      ]
     },
     "metadata": {
      "needs_background": "light"
     },
     "output_type": "display_data"
    }
   ],
   "source": [
    "fig, ax = plt.subplots(1, 3)\n",
    "fig.set_size_inches(16, 3)\n",
    "ax[0].hist(df['disease'].str.len().compute(), bins=128)\n",
    "ax[1].hist(df['target'].str.len().compute(), bins=128)\n",
    "ax[2].hist(df['evidence'].str.len().compute(), bins=128)\n",
    "None"
   ]
  },
  {
   "cell_type": "markdown",
   "metadata": {},
   "source": [
    "### Disease"
   ]
  },
  {
   "cell_type": "code",
   "execution_count": 9,
   "metadata": {},
   "outputs": [
    {
     "name": "stdout",
     "output_type": "stream",
     "text": [
      "{\n",
      "  \"biosample\": {\n",
      "    \"id\": \"http://purl.obolibrary.org/obo/UBERON_0000178\",\n",
      "    \"name\": \"peripheral blood\"\n",
      "  },\n",
      "  \"efo_info\": {\n",
      "    \"efo_id\": \"http://www.ebi.ac.uk/efo/EFO_0004249\",\n",
      "    \"label\": \"meningococcal infection\",\n",
      "    \"path\": [\n",
      "      [\n",
      "        \"EFO_0000408\",\n",
      "        \"EFO_0005741\",\n",
      "        \"EFO_0000771\",\n",
      "        \"EFO_0004249\"\n",
      "      ]\n",
      "    ],\n",
      "    \"therapeutic_area\": {\n",
      "      \"codes\": [],\n",
      "      \"labels\": []\n",
      "    }\n",
      "  },\n",
      "  \"id\": \"EFO_0004249\"\n",
      "}\n"
     ]
    }
   ],
   "source": [
    "# Example record\n",
    "print(json.dumps(json.loads(df['disease'].head(1).iloc[0]), indent=2))"
   ]
  },
  {
   "cell_type": "code",
   "execution_count": 10,
   "metadata": {},
   "outputs": [],
   "source": [
    "def from_json(v):\n",
    "    try:\n",
    "        return json.loads(v)\n",
    "    except:\n",
    "        return None"
   ]
  },
  {
   "cell_type": "code",
   "execution_count": 11,
   "metadata": {},
   "outputs": [
    {
     "data": {
      "text/plain": [
       "    325309\n",
       "dtype: int64"
      ]
     },
     "execution_count": 11,
     "metadata": {},
     "output_type": "execute_result"
    }
   ],
   "source": [
    "def get_labels(v):\n",
    "    v = from_json(v)\n",
    "    if v is None:\n",
    "        return ''\n",
    "    if 'efo_info' in v and 'therapeutic_area' in v['efo_info']:\n",
    "        return ':'.join(sorted(v['efo_info']['therapeutic_area']['labels']))\n",
    "    return 'NA'\n",
    "df['disease'].apply(get_labels, meta='foo').value_counts().compute()"
   ]
  },
  {
   "cell_type": "code",
   "execution_count": 12,
   "metadata": {},
   "outputs": [
    {
     "data": {
      "text/plain": [
       "1         1\n",
       "2      6388\n",
       "3     26703\n",
       "4     48412\n",
       "5     60916\n",
       "6     58749\n",
       "7     47474\n",
       "8     34686\n",
       "9     31836\n",
       "10     5310\n",
       "11     3854\n",
       "12      794\n",
       "13      186\n",
       "dtype: int64"
      ]
     },
     "execution_count": 12,
     "metadata": {},
     "output_type": "execute_result"
    }
   ],
   "source": [
    "def get_path_len(v):\n",
    "    v = from_json(v)\n",
    "    if v is None:\n",
    "        return np.nan\n",
    "    if 'efo_info' in v and 'path' in v['efo_info']:\n",
    "        return max([len(p) for p in v['efo_info']['path']])\n",
    "    return np.nan\n",
    "df['disease'].apply(get_path_len, meta=1).value_counts().compute().sort_index()"
   ]
  },
  {
   "cell_type": "markdown",
   "metadata": {},
   "source": [
    "### Evidence"
   ]
  },
  {
   "cell_type": "code",
   "execution_count": 13,
   "metadata": {},
   "outputs": [
    {
     "name": "stdout",
     "output_type": "stream",
     "text": [
      "{\n",
      "  \"comparison_name\": \"'monocyte; meningococcal sepsis' at '24 hour' vs 'monocyte; normal' at '0 hour'\",\n",
      "  \"confidence_level\": \"medium\",\n",
      "  \"date_asserted\": \"2015-08-28T05:30:30Z\",\n",
      "  \"evidence_codes\": [\n",
      "    \"ECO_0000058\"\n",
      "  ],\n",
      "  \"evidence_codes_info\": [\n",
      "    [\n",
      "      {\n",
      "        \"eco_id\": \"ECO_0000058\",\n",
      "        \"label\": \"expression microarray evidence\"\n",
      "      }\n",
      "    ]\n",
      "  ],\n",
      "  \"experiment_overview\": \"Transcription profiling by array of human peripheral blood cells from meningococcal sepsis patients sampled at various time points\",\n",
      "  \"is_associated\": true,\n",
      "  \"log2_fold_change\": {\n",
      "    \"percentile_rank\": 98,\n",
      "    \"value\": -1.2\n",
      "  },\n",
      "  \"organism_part\": \"http://purl.obolibrary.org/obo/UBERON_0000178\",\n",
      "  \"provenance_type\": {\n",
      "    \"database\": {\n",
      "      \"id\": \"Expression_Atlas\",\n",
      "      \"version\": \"prod.30\"\n",
      "    }\n",
      "  },\n",
      "  \"reference_replicates_n\": 3,\n",
      "  \"reference_sample\": \"monocyte; 0 hour; normal\",\n",
      "  \"resource_score\": {\n",
      "    \"method\": {\n",
      "      \"description\": \"Moderated <i>t</i>-statistics computed with <a href=\\\"http://www.bioconductor.org/packages/release/bioc/html/limma.html\\\">limma</a> version 3.28.21. Independent filtering performed using <a href=\\\"http://www.bioconductor.org/packages/release/bioc/html/genefilter.html\\\">genefilter</a> version 1.54.2, with gene variances as filter statistic. <i>p</i>-values adjusted using Benjamini & Hochberg (1995) <a href=\\\"http://www.jstor.org/stable/2346101\\\">FDR correction</a>. By default, significant differential expression called if adjusted <i>p</i> &lt;= 0.05.\"\n",
      "    },\n",
      "    \"type\": \"pvalue\",\n",
      "    \"value\": 0.0166\n",
      "  },\n",
      "  \"test_replicates_n\": 3,\n",
      "  \"test_sample\": \"monocyte; 24 hour; meningococcal sepsis\",\n",
      "  \"unique_experiment_reference\": \"STUDYID_E-GEOD-11755\",\n",
      "  \"urls\": [\n",
      "    {\n",
      "      \"nice_name\": \"ArrayExpress Experiment overview\",\n",
      "      \"url\": \"http://identifiers.org/arrayexpress/E-GEOD-11755\"\n",
      "    },\n",
      "    {\n",
      "      \"nice_name\": \"Gene expression in Expression Atlas\",\n",
      "      \"url\": \"http://www.ebi.ac.uk/gxa/experiments/E-GEOD-11755?geneQuery=ENSG00000182162\"\n",
      "    },\n",
      "    {\n",
      "      \"nice_name\": \"Baseline gene expression in Expression Atlas\",\n",
      "      \"url\": \"http://www.ebi.ac.uk/gxa/genes/ENSG00000182162\"\n",
      "    }\n",
      "  ]\n",
      "}\n"
     ]
    }
   ],
   "source": [
    "# Example record\n",
    "print(json.dumps(json.loads(df['evidence'].head(1).iloc[0]), indent=2))"
   ]
  },
  {
   "cell_type": "code",
   "execution_count": 14,
   "metadata": {},
   "outputs": [
    {
     "data": {
      "text/plain": [
       "biological_model:disease_model_association:evidence_codes:evidence_codes_info:orthologs                                                                                                                                                                                                     100202\n",
       "drug2clinic:evidence_codes:evidence_codes_info:target2drug                                                                                                                                                                                                                                   76646\n",
       "evidence_codes:evidence_codes_info:gene2variant:variant2disease                                                                                                                                                                                                                              72773\n",
       "comparison_name:confidence_level:date_asserted:evidence_codes:evidence_codes_info:experiment_overview:is_associated:log2_fold_change:organism_part:provenance_type:reference_replicates_n:reference_sample:resource_score:test_replicates_n:test_sample:unique_experiment_reference:urls     40845\n",
       "date_asserted:evidence_codes:evidence_codes_info:is_associated:provenance_type:resource_score:urls                                                                                                                                                                                           18331\n",
       "date_asserted:evidence_codes:evidence_codes_info:is_associated:known_mutations:provenance_type:resource_score:urls                                                                                                                                                                           14589\n",
       "clinical_significance:date_asserted:evidence_codes:evidence_codes_info:is_associated:known_mutations:provenance_type:resource_score:urls                                                                                                                                                      1502\n",
       "date_asserted:evidence_codes:evidence_codes_info:is_associated:provenance_type:resource_score                                                                                                                                                                                                  421\n",
       "dtype: int64"
      ]
     },
     "execution_count": 14,
     "metadata": {},
     "output_type": "execute_result"
    }
   ],
   "source": [
    "# Get unique sets of keys at top level of evidence object\n",
    "def get_evidence_keys(v):\n",
    "    ev = from_json(v)\n",
    "    if ev is None:\n",
    "        return ''\n",
    "    return ':'.join(sorted(list(ev.keys())))\n",
    "df['evidence'].apply(get_evidence_keys, meta=str).value_counts().compute()"
   ]
  },
  {
   "cell_type": "code",
   "execution_count": 16,
   "metadata": {},
   "outputs": [
    {
     "data": {
      "text/html": [
       "<div>\n",
       "<style scoped>\n",
       "    .dataframe tbody tr th:only-of-type {\n",
       "        vertical-align: middle;\n",
       "    }\n",
       "\n",
       "    .dataframe tbody tr th {\n",
       "        vertical-align: top;\n",
       "    }\n",
       "\n",
       "    .dataframe thead th {\n",
       "        text-align: right;\n",
       "    }\n",
       "</style>\n",
       "<table border=\"1\" class=\"dataframe\">\n",
       "  <thead>\n",
       "    <tr style=\"text-align: right;\">\n",
       "      <th></th>\n",
       "      <th>key</th>\n",
       "      <th>score</th>\n",
       "      <th>src</th>\n",
       "      <th>type</th>\n",
       "    </tr>\n",
       "  </thead>\n",
       "  <tbody>\n",
       "    <tr>\n",
       "      <td>0</td>\n",
       "      <td>drug2clinic</td>\n",
       "      <td>0.2</td>\n",
       "      <td>chembl</td>\n",
       "      <td>probability</td>\n",
       "    </tr>\n",
       "    <tr>\n",
       "      <td>1</td>\n",
       "      <td>target2drug</td>\n",
       "      <td>1.0</td>\n",
       "      <td>chembl</td>\n",
       "      <td>probability</td>\n",
       "    </tr>\n",
       "    <tr>\n",
       "      <td>0</td>\n",
       "      <td>drug2clinic</td>\n",
       "      <td>1.0</td>\n",
       "      <td>chembl</td>\n",
       "      <td>probability</td>\n",
       "    </tr>\n",
       "    <tr>\n",
       "      <td>1</td>\n",
       "      <td>target2drug</td>\n",
       "      <td>1.0</td>\n",
       "      <td>chembl</td>\n",
       "      <td>probability</td>\n",
       "    </tr>\n",
       "    <tr>\n",
       "      <td>0</td>\n",
       "      <td>drug2clinic</td>\n",
       "      <td>1.0</td>\n",
       "      <td>chembl</td>\n",
       "      <td>probability</td>\n",
       "    </tr>\n",
       "  </tbody>\n",
       "</table>\n",
       "</div>"
      ],
      "text/plain": [
       "           key  score     src         type\n",
       "0  drug2clinic    0.2  chembl  probability\n",
       "1  target2drug    1.0  chembl  probability\n",
       "0  drug2clinic    1.0  chembl  probability\n",
       "1  target2drug    1.0  chembl  probability\n",
       "0  drug2clinic    1.0  chembl  probability"
      ]
     },
     "execution_count": 16,
     "metadata": {},
     "output_type": "execute_result"
    }
   ],
   "source": [
    "# Fetch resource scores (i.e. evidence string scores) by source and type\n",
    "# noting that there may be multiple for a single evidence record\n",
    "def get_resource_scores(r):\n",
    "    src = r['sourceID']\n",
    "    ev = from_json(r['evidence'])\n",
    "    if ev is None:\n",
    "        return pd.DataFrame({'src': [src]}).assign(key=None, score=None, type=None)\n",
    "    df = []\n",
    "    for k in ev.keys():\n",
    "        if isinstance(ev[k], dict) and 'resource_score' in ev[k]:\n",
    "            score = ev[k]['resource_score']\n",
    "            df.append({'key': k, 'score': score['value'], 'type': score['type']})\n",
    "    return pd.DataFrame(df).assign(src=src)\n",
    "\n",
    "def get_resource_scores_df(df):\n",
    "    return pd.concat([get_resource_scores(r) for _, r in df.iterrows()], sort=True)\n",
    "\n",
    "res = df.map_partitions(get_resource_scores_df).compute()\n",
    "res.head()"
   ]
  },
  {
   "cell_type": "code",
   "execution_count": 17,
   "metadata": {},
   "outputs": [
    {
     "data": {
      "text/plain": [
       "src             key                        type        \n",
       "chembl          drug2clinic                probability      76646\n",
       "                target2drug                probability      76646\n",
       "eva             gene2variant               probability      19352\n",
       "                variant2disease            pvalue           19352\n",
       "gwas_catalog    gene2variant               probability      36180\n",
       "                variant2disease            pvalue           36180\n",
       "phenodigm       biological_model           probability     100202\n",
       "                disease_model_association  summed_total    100202\n",
       "                orthologs                  probability     100202\n",
       "phewas_catalog  gene2variant               probability      11123\n",
       "                variant2disease            pvalue           11123\n",
       "uniprot         gene2variant               probability       6118\n",
       "                variant2disease            probability       6118\n",
       "dtype: int64"
      ]
     },
     "execution_count": 17,
     "metadata": {},
     "output_type": "execute_result"
    }
   ],
   "source": [
    "res.groupby(['src', 'key', 'type']).size()"
   ]
  },
  {
   "cell_type": "code",
   "execution_count": 18,
   "metadata": {},
   "outputs": [
    {
     "data": {
      "text/html": [
       "<div>\n",
       "<style scoped>\n",
       "    .dataframe tbody tr th:only-of-type {\n",
       "        vertical-align: middle;\n",
       "    }\n",
       "\n",
       "    .dataframe tbody tr th {\n",
       "        vertical-align: top;\n",
       "    }\n",
       "\n",
       "    .dataframe thead th {\n",
       "        text-align: right;\n",
       "    }\n",
       "</style>\n",
       "<table border=\"1\" class=\"dataframe\">\n",
       "  <thead>\n",
       "    <tr style=\"text-align: right;\">\n",
       "      <th></th>\n",
       "      <th></th>\n",
       "      <th></th>\n",
       "      <th>count</th>\n",
       "      <th>mean</th>\n",
       "      <th>std</th>\n",
       "      <th>min</th>\n",
       "      <th>25%</th>\n",
       "      <th>50%</th>\n",
       "      <th>75%</th>\n",
       "      <th>max</th>\n",
       "    </tr>\n",
       "    <tr>\n",
       "      <th>src</th>\n",
       "      <th>key</th>\n",
       "      <th>type</th>\n",
       "      <th></th>\n",
       "      <th></th>\n",
       "      <th></th>\n",
       "      <th></th>\n",
       "      <th></th>\n",
       "      <th></th>\n",
       "      <th></th>\n",
       "      <th></th>\n",
       "    </tr>\n",
       "  </thead>\n",
       "  <tbody>\n",
       "    <tr>\n",
       "      <td rowspan=\"2\" valign=\"top\">chembl</td>\n",
       "      <td>drug2clinic</td>\n",
       "      <td>probability</td>\n",
       "      <td>76646.0</td>\n",
       "      <td>0.49</td>\n",
       "      <td>0.37</td>\n",
       "      <td>0.09</td>\n",
       "      <td>0.20</td>\n",
       "      <td>0.20</td>\n",
       "      <td>1.00</td>\n",
       "      <td>1.00</td>\n",
       "    </tr>\n",
       "    <tr>\n",
       "      <td>target2drug</td>\n",
       "      <td>probability</td>\n",
       "      <td>76646.0</td>\n",
       "      <td>1.00</td>\n",
       "      <td>0.00</td>\n",
       "      <td>1.00</td>\n",
       "      <td>1.00</td>\n",
       "      <td>1.00</td>\n",
       "      <td>1.00</td>\n",
       "      <td>1.00</td>\n",
       "    </tr>\n",
       "    <tr>\n",
       "      <td rowspan=\"2\" valign=\"top\">eva</td>\n",
       "      <td>gene2variant</td>\n",
       "      <td>probability</td>\n",
       "      <td>19352.0</td>\n",
       "      <td>0.85</td>\n",
       "      <td>0.12</td>\n",
       "      <td>0.50</td>\n",
       "      <td>0.70</td>\n",
       "      <td>0.95</td>\n",
       "      <td>0.95</td>\n",
       "      <td>1.00</td>\n",
       "    </tr>\n",
       "    <tr>\n",
       "      <td>variant2disease</td>\n",
       "      <td>pvalue</td>\n",
       "      <td>19352.0</td>\n",
       "      <td>0.00</td>\n",
       "      <td>0.00</td>\n",
       "      <td>0.00</td>\n",
       "      <td>0.00</td>\n",
       "      <td>0.00</td>\n",
       "      <td>0.00</td>\n",
       "      <td>0.00</td>\n",
       "    </tr>\n",
       "    <tr>\n",
       "      <td rowspan=\"2\" valign=\"top\">gwas_catalog</td>\n",
       "      <td>gene2variant</td>\n",
       "      <td>probability</td>\n",
       "      <td>36180.0</td>\n",
       "      <td>0.60</td>\n",
       "      <td>0.08</td>\n",
       "      <td>0.50</td>\n",
       "      <td>0.50</td>\n",
       "      <td>0.65</td>\n",
       "      <td>0.65</td>\n",
       "      <td>0.95</td>\n",
       "    </tr>\n",
       "    <tr>\n",
       "      <td>variant2disease</td>\n",
       "      <td>pvalue</td>\n",
       "      <td>36180.0</td>\n",
       "      <td>0.00</td>\n",
       "      <td>0.00</td>\n",
       "      <td>0.00</td>\n",
       "      <td>0.00</td>\n",
       "      <td>0.00</td>\n",
       "      <td>0.00</td>\n",
       "      <td>0.00</td>\n",
       "    </tr>\n",
       "    <tr>\n",
       "      <td rowspan=\"3\" valign=\"top\">phenodigm</td>\n",
       "      <td>biological_model</td>\n",
       "      <td>probability</td>\n",
       "      <td>100202.0</td>\n",
       "      <td>1.00</td>\n",
       "      <td>0.00</td>\n",
       "      <td>1.00</td>\n",
       "      <td>1.00</td>\n",
       "      <td>1.00</td>\n",
       "      <td>1.00</td>\n",
       "      <td>1.00</td>\n",
       "    </tr>\n",
       "    <tr>\n",
       "      <td>disease_model_association</td>\n",
       "      <td>summed_total</td>\n",
       "      <td>100202.0</td>\n",
       "      <td>0.96</td>\n",
       "      <td>0.04</td>\n",
       "      <td>0.90</td>\n",
       "      <td>0.93</td>\n",
       "      <td>0.96</td>\n",
       "      <td>1.00</td>\n",
       "      <td>1.00</td>\n",
       "    </tr>\n",
       "    <tr>\n",
       "      <td>orthologs</td>\n",
       "      <td>probability</td>\n",
       "      <td>100202.0</td>\n",
       "      <td>1.00</td>\n",
       "      <td>0.00</td>\n",
       "      <td>1.00</td>\n",
       "      <td>1.00</td>\n",
       "      <td>1.00</td>\n",
       "      <td>1.00</td>\n",
       "      <td>1.00</td>\n",
       "    </tr>\n",
       "    <tr>\n",
       "      <td rowspan=\"2\" valign=\"top\">phewas_catalog</td>\n",
       "      <td>gene2variant</td>\n",
       "      <td>probability</td>\n",
       "      <td>11123.0</td>\n",
       "      <td>0.50</td>\n",
       "      <td>0.00</td>\n",
       "      <td>0.50</td>\n",
       "      <td>0.50</td>\n",
       "      <td>0.50</td>\n",
       "      <td>0.50</td>\n",
       "      <td>0.50</td>\n",
       "    </tr>\n",
       "    <tr>\n",
       "      <td>variant2disease</td>\n",
       "      <td>pvalue</td>\n",
       "      <td>11123.0</td>\n",
       "      <td>0.02</td>\n",
       "      <td>0.01</td>\n",
       "      <td>0.00</td>\n",
       "      <td>0.01</td>\n",
       "      <td>0.02</td>\n",
       "      <td>0.04</td>\n",
       "      <td>0.05</td>\n",
       "    </tr>\n",
       "    <tr>\n",
       "      <td rowspan=\"2\" valign=\"top\">uniprot</td>\n",
       "      <td>gene2variant</td>\n",
       "      <td>probability</td>\n",
       "      <td>6118.0</td>\n",
       "      <td>0.70</td>\n",
       "      <td>0.00</td>\n",
       "      <td>0.70</td>\n",
       "      <td>0.70</td>\n",
       "      <td>0.70</td>\n",
       "      <td>0.70</td>\n",
       "      <td>0.70</td>\n",
       "    </tr>\n",
       "    <tr>\n",
       "      <td>variant2disease</td>\n",
       "      <td>probability</td>\n",
       "      <td>6118.0</td>\n",
       "      <td>1.00</td>\n",
       "      <td>0.05</td>\n",
       "      <td>0.50</td>\n",
       "      <td>1.00</td>\n",
       "      <td>1.00</td>\n",
       "      <td>1.00</td>\n",
       "      <td>1.00</td>\n",
       "    </tr>\n",
       "  </tbody>\n",
       "</table>\n",
       "</div>"
      ],
      "text/plain": [
       "                                                          count  mean   std  \\\n",
       "src            key                       type                                 \n",
       "chembl         drug2clinic               probability    76646.0  0.49  0.37   \n",
       "               target2drug               probability    76646.0  1.00  0.00   \n",
       "eva            gene2variant              probability    19352.0  0.85  0.12   \n",
       "               variant2disease           pvalue         19352.0  0.00  0.00   \n",
       "gwas_catalog   gene2variant              probability    36180.0  0.60  0.08   \n",
       "               variant2disease           pvalue         36180.0  0.00  0.00   \n",
       "phenodigm      biological_model          probability   100202.0  1.00  0.00   \n",
       "               disease_model_association summed_total  100202.0  0.96  0.04   \n",
       "               orthologs                 probability   100202.0  1.00  0.00   \n",
       "phewas_catalog gene2variant              probability    11123.0  0.50  0.00   \n",
       "               variant2disease           pvalue         11123.0  0.02  0.01   \n",
       "uniprot        gene2variant              probability     6118.0  0.70  0.00   \n",
       "               variant2disease           probability     6118.0  1.00  0.05   \n",
       "\n",
       "                                                        min   25%   50%   75%  \\\n",
       "src            key                       type                                   \n",
       "chembl         drug2clinic               probability   0.09  0.20  0.20  1.00   \n",
       "               target2drug               probability   1.00  1.00  1.00  1.00   \n",
       "eva            gene2variant              probability   0.50  0.70  0.95  0.95   \n",
       "               variant2disease           pvalue        0.00  0.00  0.00  0.00   \n",
       "gwas_catalog   gene2variant              probability   0.50  0.50  0.65  0.65   \n",
       "               variant2disease           pvalue        0.00  0.00  0.00  0.00   \n",
       "phenodigm      biological_model          probability   1.00  1.00  1.00  1.00   \n",
       "               disease_model_association summed_total  0.90  0.93  0.96  1.00   \n",
       "               orthologs                 probability   1.00  1.00  1.00  1.00   \n",
       "phewas_catalog gene2variant              probability   0.50  0.50  0.50  0.50   \n",
       "               variant2disease           pvalue        0.00  0.01  0.02  0.04   \n",
       "uniprot        gene2variant              probability   0.70  0.70  0.70  0.70   \n",
       "               variant2disease           probability   0.50  1.00  1.00  1.00   \n",
       "\n",
       "                                                        max  \n",
       "src            key                       type                \n",
       "chembl         drug2clinic               probability   1.00  \n",
       "               target2drug               probability   1.00  \n",
       "eva            gene2variant              probability   1.00  \n",
       "               variant2disease           pvalue        0.00  \n",
       "gwas_catalog   gene2variant              probability   0.95  \n",
       "               variant2disease           pvalue        0.00  \n",
       "phenodigm      biological_model          probability   1.00  \n",
       "               disease_model_association summed_total  1.00  \n",
       "               orthologs                 probability   1.00  \n",
       "phewas_catalog gene2variant              probability   0.50  \n",
       "               variant2disease           pvalue        0.05  \n",
       "uniprot        gene2variant              probability   0.70  \n",
       "               variant2disease           probability   1.00  "
      ]
     },
     "execution_count": 18,
     "metadata": {},
     "output_type": "execute_result"
    }
   ],
   "source": [
    "# Show resource score summaries\n",
    "res.groupby(['src', 'key', 'type'])['score'].describe().round(2)"
   ]
  },
  {
   "cell_type": "code",
   "execution_count": 19,
   "metadata": {},
   "outputs": [
    {
     "name": "stderr",
     "output_type": "stream",
     "text": [
      "/usr/local/lib/python3.7/site-packages/mizani/bounds.py:443: RuntimeWarning: overflow encountered in double_scalars\n",
      "  return np.abs((x[0] - x[1]) / m) < tol\n"
     ]
    },
    {
     "data": {
      "image/png": "[encoded data removed]",
      "text/plain": [
       "<Figure size 1600x600 with 13 Axes>"
      ]
     },
     "metadata": {},
     "output_type": "display_data"
    },
    {
     "data": {
      "text/plain": [
       "<ggplot: (8786647714249)>"
      ]
     },
     "execution_count": 19,
     "metadata": {},
     "output_type": "execute_result"
    }
   ],
   "source": [
    "# Show resource scores by source and score type to see how often they are simply mapped \n",
    "# from categorical values (which should be obvious with low cardinality histograms)\n",
    "(\n",
    "    pn.ggplot(res, pn.aes(x='score')) + \n",
    "    pn.facet_wrap('~src + key + type', scales='free', ncol=5) + \n",
    "    pn.geom_histogram(bins=64) +\n",
    "    pn.theme(figure_size=(16,6))\n",
    ")"
   ]
  }
 ],
 "metadata": {
  "kernelspec": {
   "display_name": "Python 3",
   "language": "python",
   "name": "python3"
  },
  "language_info": {
   "codemirror_mode": {
    "name": "ipython",
    "version": 3
   },
   "file_extension": ".py",
   "mimetype": "text/x-python",
   "name": "python",
   "nbconvert_exporter": "python",
   "pygments_lexer": "ipython3",
   "version": "3.7.4"
  }
 },
 "nbformat": 4,
 "nbformat_minor": 4
}
